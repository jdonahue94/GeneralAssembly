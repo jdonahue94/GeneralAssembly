{
 "cells": [
  {
   "cell_type": "markdown",
   "metadata": {},
   "source": [
    "## Intermediate Lab:  Creating A Dataset Using the GitHub API\n",
    "\n",
    "In this lab you'll create a dataset containing all the meta information about your classmates github repos, using only the csv file with everyone's url.  \n",
    "\n",
    "The process will be done in these 4 general steps:\n",
    "\n",
    " - load in the csv file\n",
    " - clean the individual lines of each file to get them ready to use\n",
    " - connect to the GitHub api to obtain information about everyone's repos\n",
    " - re-structure this information to turn it into a dataframe.\n",
    " \n",
    "It'll be a great way to work through the first step of many data science problems: creating a workable dataset out of unorganized, messy data.  Let's get started!"
   ]
  },
  {
   "cell_type": "markdown",
   "metadata": {},
   "source": [
    "### Step 1:  Load in the csv file with everyone's github repo"
   ]
  },
  {
   "cell_type": "code",
   "execution_count": 1,
   "metadata": {},
   "outputs": [],
   "source": [
    "import requests\n",
    "import pandas as pd"
   ]
  },
  {
   "cell_type": "code",
   "execution_count": 3,
   "metadata": {},
   "outputs": [],
   "source": [
    "# IMPORTANT -- MAKE SURE THE FILE PATH LISTED MATCHES WHAT'S ON YOUR COMPUTER\n",
    "with open('datrepos.csv') as f:\n",
    "    data = f.readlines()"
   ]
  },
  {
   "cell_type": "code",
   "execution_count": 4,
   "metadata": {},
   "outputs": [
    {
     "data": {
      "text/plain": [
       "['Name,Github URL\\n',\n",
       " 'Jonathan,https://github.com/JonathanBechtel\\n',\n",
       " 'Rezwana,https://github.com/rezsharmeen\\n',\n",
       " 'Marnie,https://github.com/marnierl\\n',\n",
       " 'Kristina,https://github.com/hayniek\\n',\n",
       " 'Harley,https://github.com/harleyhoffmann\\n',\n",
       " 'Uma,https://github.com/umap1230\\n',\n",
       " 'Andrew Cal,https://github.com/AndrewCal2013\\n',\n",
       " 'Zarina ,https://github.com/zarinajm7\\n',\n",
       " 'Lisa,https://github.com/lisastaal\\n',\n",
       " 'Emma ,https://github.com/ewynn5\\n',\n",
       " 'Jacob,https://github.com/jdonahue94\\n',\n",
       " 'Tina,https://github.com/tinagads\\n',\n",
       " 'Danielle,https://github.com/dlemi\\n',\n",
       " ',\\n',\n",
       " ',\\n',\n",
       " 'Jake H,https://github.com/jhoernsch\\n',\n",
       " 'Avinash,https://github.com/avirathore2\\n',\n",
       " ',\\n',\n",
       " ',https://github.com/bebenono/sample-ga-repo\\n',\n",
       " 'Krithi N,https://github.com/nkrithi\\n']"
      ]
     },
     "execution_count": 4,
     "metadata": {},
     "output_type": "execute_result"
    }
   ],
   "source": [
    "# notice that data is a list filled with strings that contain info about each line\n",
    "data"
   ]
  },
  {
   "cell_type": "markdown",
   "metadata": {},
   "source": [
    "### Step 2: Remove the `\\n` from each item in the list, as well as the item that contains the header info."
   ]
  },
  {
   "cell_type": "code",
   "execution_count": 5,
   "metadata": {},
   "outputs": [],
   "source": [
    "# this loops through each item in the list, starting at position 1, and replace the \\n character with nothing\n",
    "cleaned_data = [repo.replace('\\n', \"\") for repo in data[1:]]"
   ]
  },
  {
   "cell_type": "code",
   "execution_count": 6,
   "metadata": {},
   "outputs": [
    {
     "data": {
      "text/plain": [
       "['Jonathan,https://github.com/JonathanBechtel',\n",
       " 'Rezwana,https://github.com/rezsharmeen',\n",
       " 'Marnie,https://github.com/marnierl',\n",
       " 'Kristina,https://github.com/hayniek',\n",
       " 'Harley,https://github.com/harleyhoffmann',\n",
       " 'Uma,https://github.com/umap1230',\n",
       " 'Andrew Cal,https://github.com/AndrewCal2013',\n",
       " 'Zarina ,https://github.com/zarinajm7',\n",
       " 'Lisa,https://github.com/lisastaal',\n",
       " 'Emma ,https://github.com/ewynn5',\n",
       " 'Jacob,https://github.com/jdonahue94',\n",
       " 'Tina,https://github.com/tinagads',\n",
       " 'Danielle,https://github.com/dlemi',\n",
       " ',',\n",
       " ',',\n",
       " 'Jake H,https://github.com/jhoernsch',\n",
       " 'Avinash,https://github.com/avirathore2',\n",
       " ',',\n",
       " ',https://github.com/bebenono/sample-ga-repo',\n",
       " 'Krithi N,https://github.com/nkrithi']"
      ]
     },
     "execution_count": 6,
     "metadata": {},
     "output_type": "execute_result"
    }
   ],
   "source": [
    "# we can confirm now that these marks are no longer there\n",
    "cleaned_data"
   ]
  },
  {
   "cell_type": "markdown",
   "metadata": {},
   "source": [
    "### Step 3:  Separate the username in each string from everything else"
   ]
  },
  {
   "cell_type": "code",
   "execution_count": 7,
   "metadata": {},
   "outputs": [
    {
     "ename": "NameError",
     "evalue": "name 'repo_urls' is not defined",
     "output_type": "error",
     "traceback": [
      "\u001b[0;31m---------------------------------------------------------------------------\u001b[0m",
      "\u001b[0;31mNameError\u001b[0m                                 Traceback (most recent call last)",
      "\u001b[0;32m<ipython-input-7-95e5eaafa39e>\u001b[0m in \u001b[0;36m<module>\u001b[0;34m\u001b[0m\n\u001b[1;32m      1\u001b[0m \u001b[0;31m# we do the same thing, except we take the LAST item from the list returned by split()\u001b[0m\u001b[0;34m\u001b[0m\u001b[0;34m\u001b[0m\u001b[0;34m\u001b[0m\u001b[0m\n\u001b[0;32m----> 2\u001b[0;31m \u001b[0musernames\u001b[0m \u001b[0;34m=\u001b[0m \u001b[0;34m[\u001b[0m\u001b[0murl\u001b[0m\u001b[0;34m.\u001b[0m\u001b[0msplit\u001b[0m\u001b[0;34m(\u001b[0m\u001b[0;34m'/'\u001b[0m\u001b[0;34m)\u001b[0m\u001b[0;34m[\u001b[0m\u001b[0;34m-\u001b[0m\u001b[0;36m1\u001b[0m\u001b[0;34m]\u001b[0m \u001b[0;32mfor\u001b[0m \u001b[0murl\u001b[0m \u001b[0;32min\u001b[0m \u001b[0mrepo_urls\u001b[0m\u001b[0;34m]\u001b[0m\u001b[0;34m\u001b[0m\u001b[0;34m\u001b[0m\u001b[0m\n\u001b[0m",
      "\u001b[0;31mNameError\u001b[0m: name 'repo_urls' is not defined"
     ]
    }
   ],
   "source": [
    "# we do the same thing, except we take the LAST item from the list returned by split()\n",
    "usernames = [url.split('/')[-1] for url in cleaned_data]"
   ]
  },
  {
   "cell_type": "markdown",
   "metadata": {},
   "source": [
    "### Step 4: Obtain the repo data for every single github username"
   ]
  },
  {
   "cell_type": "code",
   "execution_count": null,
   "metadata": {},
   "outputs": [],
   "source": [
    "# this part of the url will never change\n",
    "base_url = 'https://api.github.com'"
   ]
  },
  {
   "cell_type": "code",
   "execution_count": null,
   "metadata": {},
   "outputs": [],
   "source": [
    "# this goes through every username, and inserts it into the api url, and then passes that into requests.get().json()\n",
    "# to obtain a list of repos for every single user\n",
    "repo_lists = [requests.get(f\"{base_url}/users/{username}/repos\").json() for username in usernames]"
   ]
  },
  {
   "cell_type": "markdown",
   "metadata": {},
   "source": [
    "### Step 5: Create a 'flat' list that contains every unique repo for every single user"
   ]
  },
  {
   "cell_type": "markdown",
   "metadata": {},
   "source": [
    "Answer with list comprehension:"
   ]
  },
  {
   "cell_type": "code",
   "execution_count": null,
   "metadata": {},
   "outputs": [],
   "source": [
    "# this is a nested for-loop using a list comprehension that returns each item inside the inner list\n",
    "repos = [repo for user in repo_lists for repo in user]"
   ]
  },
  {
   "cell_type": "markdown",
   "metadata": {},
   "source": [
    "Nested loops with comprehensions can be difficult to interpret sometimes, so if a regular for-loop is easier to digest, this is a different way of writing the same thing:"
   ]
  },
  {
   "cell_type": "code",
   "execution_count": null,
   "metadata": {},
   "outputs": [],
   "source": [
    "repos = []\n",
    "\n",
    "for user in repo_lists:\n",
    "    for repo in user:\n",
    "        repos.append(repo)"
   ]
  },
  {
   "cell_type": "markdown",
   "metadata": {},
   "source": [
    "### Step 6:  Get information about the name, owner, url, and date of every single repo."
   ]
  },
  {
   "cell_type": "code",
   "execution_count": null,
   "metadata": {},
   "outputs": [],
   "source": [
    "# this creates a list of all the values for the name key\n",
    "repo_names = [repo['name'] for repo in repos]\n",
    "# ditto for the login key -- notice it's accessed inside the owner key\n",
    "owners     = [repo['owner']['login'] for repo in repos]\n",
    "# next two work the same way\n",
    "urls       = [repo['html_url'] for repo in repos]\n",
    "dates      = [repo['created_at'] for repo in repos]"
   ]
  },
  {
   "cell_type": "markdown",
   "metadata": {},
   "source": [
    "### Step 7:  Create a dictionary with the data created from step 7"
   ]
  },
  {
   "cell_type": "code",
   "execution_count": null,
   "metadata": {},
   "outputs": [],
   "source": [
    "data_dict = {\n",
    "    'Owner': owners,\n",
    "    'Name': repo_names,\n",
    "    'URL': urls,\n",
    "    'Date': dates\n",
    "}"
   ]
  },
  {
   "cell_type": "markdown",
   "metadata": {},
   "source": [
    "### Step 8:  Pass your dictionary into the `pd.dataframe()` method to get your final dataset  "
   ]
  },
  {
   "cell_type": "code",
   "execution_count": null,
   "metadata": {},
   "outputs": [],
   "source": [
    "import pandas as pd\n",
    "\n",
    "# this will take your dictionary and turn it into a dataframe\n",
    "df = pd.DataFrame(data_dict)"
   ]
  },
  {
   "cell_type": "code",
   "execution_count": null,
   "metadata": {},
   "outputs": [],
   "source": [
    "# look how pretty it is :)\n",
    "df.head()"
   ]
  }
 ],
 "metadata": {
  "kernelspec": {
   "display_name": "Python 3",
   "language": "python",
   "name": "python3"
  },
  "language_info": {
   "codemirror_mode": {
    "name": "ipython",
    "version": 3
   },
   "file_extension": ".py",
   "mimetype": "text/x-python",
   "name": "python",
   "nbconvert_exporter": "python",
   "pygments_lexer": "ipython3",
   "version": "3.8.3"
  }
 },
 "nbformat": 4,
 "nbformat_minor": 2
}
