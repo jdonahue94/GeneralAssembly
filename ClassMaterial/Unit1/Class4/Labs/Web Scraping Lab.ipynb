{
 "cells": [
  {
   "cell_type": "markdown",
   "metadata": {},
   "source": [
    "### Web Scraping Lab\n",
    "\n",
    "Welcome!  In today's lab we're going to build a web scraper that's going to build a dataset from restaurant listings on a yelp page.  \n",
    "\n",
    "You can find the web page here: https://www.yelp.com/search?find_desc=Restaurants&find_loc=London%2C%20United%20Kingdom&ns=1\n",
    "\n",
    "The lab questions listed herein will naturally build from the material discussed in class."
   ]
  },
  {
   "cell_type": "markdown",
   "metadata": {},
   "source": [
    "#### Step 1:  Scrape the number of reviews for each restaurant\n",
    "\n",
    "Using a similar methodology we used to find the title of the restaurant find the number of reviews for the 30 restaurants listed on this web page.\n",
    "\n",
    "**Hint:** the `isdigit()` string method will be helpful to detect if a string contains a number."
   ]
  },
  {
   "cell_type": "code",
   "execution_count": 30,
   "metadata": {},
   "outputs": [],
   "source": [
    "# Step 1 - importing libraries\n",
    "import requests\n",
    "import pandas as pd\n",
    "from bs4 import BeautifulSoup\n"
   ]
  },
  {
   "cell_type": "code",
   "execution_count": 3,
   "metadata": {},
   "outputs": [],
   "source": [
    "# Step 2 - connecting to a url\n",
    "url = 'https://www.yelp.com/search?find_desc=Restaurants&find_loc=London%2C%20United%20Kingdom&ns=1'\n",
    "yelp_req = requests.get(url)\n"
   ]
  },
  {
   "cell_type": "code",
   "execution_count": 4,
   "metadata": {},
   "outputs": [],
   "source": [
    "#Step 3 - feeding text into a scraper\n",
    "scraper = BeautifulSoup(yelp_req.text)\n"
   ]
  },
  {
   "cell_type": "code",
   "execution_count": 20,
   "metadata": {},
   "outputs": [
    {
     "data": {
      "text/plain": [
       "['The Mayfair Chippy',\n",
       " 'Dishoom',\n",
       " 'Flat Iron',\n",
       " 'Ffiona’s Restaurant',\n",
       " 'Restaurant Gordon Ramsay',\n",
       " 'The Fat Bear',\n",
       " 'The Breakfast Club',\n",
       " 'Padella',\n",
       " 'Dishoom',\n",
       " 'The Golden Chippy']"
      ]
     },
     "execution_count": 20,
     "metadata": {},
     "output_type": "execute_result"
    }
   ],
   "source": [
    "# scraping individual titles\n",
    "titles = scraper.find_all('a', {'class': 'css-166la90'})\n",
    "titles = [title.text for title in titles if len(title.text) > 1]\n",
    "titles"
   ]
  },
  {
   "cell_type": "code",
   "execution_count": 15,
   "metadata": {},
   "outputs": [
    {
     "data": {
      "text/plain": [
       "[283, 1841, 380, 268, 204, 122, 494, 207, 547, 107]"
      ]
     },
     "execution_count": 15,
     "metadata": {},
     "output_type": "execute_result"
    }
   ],
   "source": [
    "# finding number of reviews\n",
    "reviews = scraper.find_all('span', {'class': 'reviewCount__09f24__EUXPN'})\n",
    "reviews = [int(review.text) for review in reviews]\n",
    "reviews"
   ]
  },
  {
   "cell_type": "markdown",
   "metadata": {},
   "source": [
    "#### Step 2:  Find the price range for each restaurant\n",
    "\n",
    "Let's create data for the price range of each restaurant as well, as denoted by the $ \\unicode{x00A3} $ symbol listed on each website.\n",
    "\n",
    "**Hint 1:** The information that you need for this was selected using the same criteria to find the number of reviews.\n",
    "\n",
    "**Hint 2:** You type the $ \\unicode{x00A3} $ symbol in python with the expression `\\xA3`"
   ]
  },
  {
   "cell_type": "code",
   "execution_count": 24,
   "metadata": {},
   "outputs": [
    {
     "data": {
      "text/plain": [
       "['££', '££', '££', '££', '££££', '££', '££', '££', '££', '££']"
      ]
     },
     "execution_count": 24,
     "metadata": {},
     "output_type": "execute_result"
    }
   ],
   "source": [
    "price_range = scraper.find_all('span', {'class': 'priceRange__09f24__2O6le'})\n",
    "price_range = [prices.text for prices in price_range]\n",
    "price_range"
   ]
  },
  {
   "cell_type": "markdown",
   "metadata": {},
   "source": [
    "#### Step 3:  Build a Dataframe For the Title, # of Ratings and Price Range of Each Restaurant\n",
    "\n",
    "You will need to create a dictionary structured in the following way:\n",
    "\n",
    "` {\n",
    "    'Title': [list with the titles of each restaurant],\n",
    "    'NumRatings': [list with the number of ratings of each restaurant],\n",
    "    'Price Range': [list with the price range of each restaurant]\n",
    "}`"
   ]
  },
  {
   "cell_type": "code",
   "execution_count": 32,
   "metadata": {},
   "outputs": [
    {
     "data": {
      "text/html": [
       "<div>\n",
       "<style scoped>\n",
       "    .dataframe tbody tr th:only-of-type {\n",
       "        vertical-align: middle;\n",
       "    }\n",
       "\n",
       "    .dataframe tbody tr th {\n",
       "        vertical-align: top;\n",
       "    }\n",
       "\n",
       "    .dataframe thead th {\n",
       "        text-align: right;\n",
       "    }\n",
       "</style>\n",
       "<table border=\"1\" class=\"dataframe\">\n",
       "  <thead>\n",
       "    <tr style=\"text-align: right;\">\n",
       "      <th></th>\n",
       "      <th>Title</th>\n",
       "      <th>NumRatings</th>\n",
       "      <th>Price Range</th>\n",
       "    </tr>\n",
       "  </thead>\n",
       "  <tbody>\n",
       "    <tr>\n",
       "      <th>0</th>\n",
       "      <td>The Mayfair Chippy</td>\n",
       "      <td>283</td>\n",
       "      <td>££</td>\n",
       "    </tr>\n",
       "    <tr>\n",
       "      <th>1</th>\n",
       "      <td>Dishoom</td>\n",
       "      <td>1841</td>\n",
       "      <td>££</td>\n",
       "    </tr>\n",
       "    <tr>\n",
       "      <th>2</th>\n",
       "      <td>Flat Iron</td>\n",
       "      <td>380</td>\n",
       "      <td>££</td>\n",
       "    </tr>\n",
       "    <tr>\n",
       "      <th>3</th>\n",
       "      <td>Ffiona’s Restaurant</td>\n",
       "      <td>268</td>\n",
       "      <td>££</td>\n",
       "    </tr>\n",
       "    <tr>\n",
       "      <th>4</th>\n",
       "      <td>Restaurant Gordon Ramsay</td>\n",
       "      <td>204</td>\n",
       "      <td>££££</td>\n",
       "    </tr>\n",
       "    <tr>\n",
       "      <th>5</th>\n",
       "      <td>The Fat Bear</td>\n",
       "      <td>122</td>\n",
       "      <td>££</td>\n",
       "    </tr>\n",
       "    <tr>\n",
       "      <th>6</th>\n",
       "      <td>The Breakfast Club</td>\n",
       "      <td>494</td>\n",
       "      <td>££</td>\n",
       "    </tr>\n",
       "    <tr>\n",
       "      <th>7</th>\n",
       "      <td>Padella</td>\n",
       "      <td>207</td>\n",
       "      <td>££</td>\n",
       "    </tr>\n",
       "    <tr>\n",
       "      <th>8</th>\n",
       "      <td>Dishoom</td>\n",
       "      <td>547</td>\n",
       "      <td>££</td>\n",
       "    </tr>\n",
       "    <tr>\n",
       "      <th>9</th>\n",
       "      <td>The Golden Chippy</td>\n",
       "      <td>107</td>\n",
       "      <td>££</td>\n",
       "    </tr>\n",
       "  </tbody>\n",
       "</table>\n",
       "</div>"
      ],
      "text/plain": [
       "                      Title  NumRatings Price Range\n",
       "0        The Mayfair Chippy         283          ££\n",
       "1                   Dishoom        1841          ££\n",
       "2                 Flat Iron         380          ££\n",
       "3       Ffiona’s Restaurant         268          ££\n",
       "4  Restaurant Gordon Ramsay         204        ££££\n",
       "5              The Fat Bear         122          ££\n",
       "6        The Breakfast Club         494          ££\n",
       "7                   Padella         207          ££\n",
       "8                   Dishoom         547          ££\n",
       "9         The Golden Chippy         107          ££"
      ]
     },
     "execution_count": 32,
     "metadata": {},
     "output_type": "execute_result"
    }
   ],
   "source": [
    "data_dict = {'Title': titles, 'NumRatings': reviews, 'Price Range': price_range}\n",
    "df = pd.DataFrame(data_dict)\n",
    "df"
   ]
  },
  {
   "cell_type": "code",
   "execution_count": null,
   "metadata": {},
   "outputs": [],
   "source": []
  }
 ],
 "metadata": {
  "kernelspec": {
   "display_name": "Python 3",
   "language": "python",
   "name": "python3"
  },
  "language_info": {
   "codemirror_mode": {
    "name": "ipython",
    "version": 3
   },
   "file_extension": ".py",
   "mimetype": "text/x-python",
   "name": "python",
   "nbconvert_exporter": "python",
   "pygments_lexer": "ipython3",
   "version": "3.8.3"
  }
 },
 "nbformat": 4,
 "nbformat_minor": 4
}
