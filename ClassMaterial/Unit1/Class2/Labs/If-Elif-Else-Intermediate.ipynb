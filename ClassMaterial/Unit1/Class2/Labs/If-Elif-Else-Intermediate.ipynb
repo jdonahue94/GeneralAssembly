{
 "cells": [
  {
   "cell_type": "markdown",
   "metadata": {},
   "source": [
    "## If-Elif-Else:  Intermediate\n",
    "\n",
    "This notebook contains prompts that ask you to make a number of comparisons between different variables.  "
   ]
  },
  {
   "cell_type": "markdown",
   "metadata": {},
   "source": [
    "---\n",
    "\n",
    "### 1). Write an `if… else` statement for multiple conditions.\n",
    "\n",
    "Print out these recommendations based on the weather conditions:\n",
    "\n",
    "1. The temperature is higher than 60 degrees and it is raining: Bring an umbrella.\n",
    "2. The temperature is lower than or equal to 60 degrees and it is raining: Bring an umbrella and a jacket.\n",
    "3. The temperature is higher than 60 degrees and the sun is shining: Wear a T-shirt.\n",
    "4. The temperature is lower than or equal to 60 degrees and the sun is shining: Bring a jacket."
   ]
  },
  {
   "cell_type": "code",
   "execution_count": 21,
   "metadata": {},
   "outputs": [
    {
     "name": "stdout",
     "output_type": "stream",
     "text": [
      "Please enter the current temperature: 10\n",
      "Is it raining? no\n",
      "Bring a Jacket\n"
     ]
    }
   ],
   "source": [
    "# setting variables based on input\n",
    "temperature = input(\"Please enter the current temperature: \")\n",
    "raining = input(\"Is it raining? \")\n",
    "\n",
    "# transforming variables\n",
    "temp = int(temperature)\n",
    "if raining == \"Yes\" or raining == \"yes\":\n",
    "    rain = True\n",
    "elif raining == \"No\" or raining == \"no\":\n",
    "    rain = False\n",
    "    \n",
    "# returning instructions\n",
    "if temp > 60:\n",
    "    if rain == True:\n",
    "        print('Bring an umbrella')\n",
    "    else:\n",
    "        print(\"Wear a T-Shirt\")\n",
    "elif temp <= 60:\n",
    "    if rain == True:\n",
    "        print(\"Bring an umbrella and a jacket\")\n",
    "    else:\n",
    "        print(\"Bring a Jacket\")\n"
   ]
  },
  {
   "cell_type": "markdown",
   "metadata": {},
   "source": [
    "### 2). Fizz......buzz.\n",
    "\n",
    "Create an `if` statement that does the following:\n",
    "\n",
    "1. If a number is divisible by 3, print \"fizz.\"\n",
    "2. If a number is divisible by 5, print \"buzz.\" \n",
    "3. If a number is both divisible by 3 and by 5, print \"fizzbuzz.\"\n",
    "4. Otherwise, print just the number.\n",
    "\n",
    "Test it on different numbers to make sure you did it correctly."
   ]
  },
  {
   "cell_type": "code",
   "execution_count": 31,
   "metadata": {},
   "outputs": [
    {
     "name": "stdout",
     "output_type": "stream",
     "text": [
      "Please input a random number: 2\n",
      "Heres your damn number! 2 ain't divisible by nothing!\n"
     ]
    }
   ],
   "source": [
    "number = input(\"Please input a random number: \")\n",
    "div_3 = int(number) % 3\n",
    "div_5 = int(number) % 5\n",
    "\n",
    "if div_3 == 0 and div_5 == 0:\n",
    "    print(\"fizzbuzz\")\n",
    "elif div_3 == 0:\n",
    "    print(\"fizz\")\n",
    "elif div_5 == 0:\n",
    "    print(\"buzz\")\n",
    "else:\n",
    "    print(f\"Heres your damn number! {number} ain't divisible by nothing!\")\n",
    "    "
   ]
  },
  {
   "cell_type": "markdown",
   "metadata": {},
   "source": [
    "### 3).  Evaluating a password\n",
    "\n",
    "Now we're going to try and create a prompt that tests a password for the following conditions:\n",
    "\n",
    " - It contains only alpha numeric characters (no special characters)\n",
    " - It contains at least one number\n",
    " - It isn't all numbers\n",
    " \n",
    "If they formatted it correctly, then tell them so.  If they didn't, tell them what they did wrong.\n",
    " \n",
    "**Hint**:  here are some useful string methods to look at:  `isalnum(), isdigit(), isalpha().`  Test them and see how they do and do not evaluate to True and False.\n",
    "\n",
    "You can read more about them here:  https://www.programiz.com/python-programming/methods/string\n",
    "\n",
    "**Test Case**: Try the following passwords to make sure it works:\n",
    "\n",
    " - 'password'  (incorrect - no numbers)\n",
    " - 'password!' (incorrect - special characters)\n",
    " - 'password1' (correct)\n",
    " - '182837576' (incorrect - contains all numbers)"
   ]
  },
  {
   "cell_type": "code",
   "execution_count": 41,
   "metadata": {},
   "outputs": [
    {
     "name": "stdout",
     "output_type": "stream",
     "text": [
      "Please enter a password: DaisyDuke94\n",
      "correct!\n"
     ]
    }
   ],
   "source": [
    "import re\n",
    "password = input(\"Please enter a password: \")\n",
    "\n",
    "if password.isdigit():\n",
    "    print(\"incorrect - contains all numbers\")\n",
    "elif password.isalpha():\n",
    "    print(\"incorrect - no numbers\")\n",
    "elif re.findall('[^A-Za-z0-9]', password):\n",
    "    print(\"incorrect - special characters\")\n",
    "else:\n",
    "    print(\"correct!\")\n"
   ]
  }
 ],
 "metadata": {
  "kernelspec": {
   "display_name": "Python 3",
   "language": "python",
   "name": "python3"
  },
  "language_info": {
   "codemirror_mode": {
    "name": "ipython",
    "version": 3
   },
   "file_extension": ".py",
   "mimetype": "text/x-python",
   "name": "python",
   "nbconvert_exporter": "python",
   "pygments_lexer": "ipython3",
   "version": "3.8.3"
  }
 },
 "nbformat": 4,
 "nbformat_minor": 2
}
