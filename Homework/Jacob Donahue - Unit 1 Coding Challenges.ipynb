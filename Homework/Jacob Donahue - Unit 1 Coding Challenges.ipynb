{
 "cells": [
  {
   "cell_type": "markdown",
   "metadata": {},
   "source": [
    "### Challenge 1 - Largest Palindrome"
   ]
  },
  {
   "cell_type": "code",
   "execution_count": 12,
   "metadata": {},
   "outputs": [
    {
     "name": "stdout",
     "output_type": "stream",
     "text": [
      "906609\n",
      "913\n",
      "993\n"
     ]
    }
   ],
   "source": [
    "# Step 1 - creating a function to check for a palindrome \n",
    "def palindrom_check(palindrom):\n",
    "    return str(palindrom) == str(palindrom)[::-1]\n",
    "\n",
    "# Step 2 - finding palindromes\n",
    "def largest_palindrom():\n",
    "    digit1    = 0\n",
    "    digit2    = 0\n",
    "    palindrom = 0 \n",
    "\n",
    "# step 3 - looping through two ranges, checking if product is palindrome, checking if the palindrome is > last palindome\n",
    "    for a in range(100,1000):\n",
    "        for b in range(100,1000):\n",
    "            product = a * b\n",
    "            if palindrom_check(product):\n",
    "                if product > palindrom:\n",
    "                    palindrom = product\n",
    "                    digit1 = a\n",
    "                    digit2 = b \n",
    "\n",
    "  # printing the palindrome and the two factors     \n",
    "    print(palindrom)\n",
    "    print(digit1)\n",
    "    print(digit2)\n",
    "\n",
    "# call the function\n",
    "largest_palindrom()"
   ]
  },
  {
   "cell_type": "markdown",
   "metadata": {},
   "source": [
    "### Challenge 2 - Summation of Primes"
   ]
  },
  {
   "cell_type": "code",
   "execution_count": 7,
   "metadata": {},
   "outputs": [
    {
     "name": "stdout",
     "output_type": "stream",
     "text": [
      "The sum of all primes numbers below 2000 = 363436487\n"
     ]
    }
   ],
   "source": [
    "# Step 1 - defining the function\n",
    "def prime_numbers(limit):\n",
    "    sum_primes = 0\n",
    "    for a in range(0,limit+1):\n",
    "        if a > 1:\n",
    "            for b in range(2,a):\n",
    "                if a % b == 0:\n",
    "                    break\n",
    "                else:\n",
    "                    sum_primes += a # add a to the sum\n",
    "\n",
    "    print(f\"The sum of all primes numbers below {limit} = {sum_primes}\")\n",
    "\n",
    "# step 2 - calling the function\n",
    "prime_numbers(2000) # enter a specific limit"
   ]
  },
  {
   "cell_type": "markdown",
   "metadata": {},
   "source": [
    "### Challenge 3 - Multiples of 3 and 5"
   ]
  },
  {
   "cell_type": "code",
   "execution_count": 14,
   "metadata": {},
   "outputs": [
    {
     "name": "stdout",
     "output_type": "stream",
     "text": [
      "The sum of all multiples of 3 or 5 below 1000 = 233168\n"
     ]
    }
   ],
   "source": [
    "# Step 1 - defining the function\n",
    "def multiples(limit):\n",
    "    total = 0\n",
    "\n",
    "  # looping through a specified range\n",
    "    for a in range(0,limit):\n",
    "        if a % 3 == 0 or a % 5 == 0: # multiple of 3 or 5?\n",
    "            total += a # if yes, add to total\n",
    "        else:\n",
    "            pass\n",
    "    print(f\"The sum of all multiples of 3 or 5 below {limit} = {total}\")\n",
    "\n",
    "# Step 2 - call the function\n",
    "multiples(1000)"
   ]
  },
  {
   "cell_type": "markdown",
   "metadata": {},
   "source": [
    "### Challenge 4 - String Compressor"
   ]
  },
  {
   "cell_type": "code",
   "execution_count": 15,
   "metadata": {},
   "outputs": [
    {
     "name": "stdout",
     "output_type": "stream",
     "text": [
      "Jaaaaaacob has been condensed to 0 via run-length encoding\n"
     ]
    }
   ],
   "source": [
    "# Step 1 - define the function\n",
    "def string_compressor(word):\n",
    "    a = len(word)\n",
    "    b = 0\n",
    "    rle = '' # compressed word\n",
    "    pre = ''\n",
    "    count = 0\n",
    "\n",
    "  # looping through each character in the specified word\n",
    "    for char in word:\n",
    "        b += 1\n",
    "        if char == pre: # if the current char = the previous char\n",
    "            count += 1\n",
    "            if a == b: # if the current char is the last char\n",
    "                rle += str(count) # add the char count to the compressed rle\n",
    "    \n",
    "    # unseen character\n",
    "    else:\n",
    "        if count > 0:\n",
    "            rle += str(count) # add the previous count to rle\n",
    "            count = 0 # set the new count to 0\n",
    "            rle += char # add the new character to rle\n",
    "            pre = char # setting the new char as the pre char\n",
    "            count += 1 # adding 1 to the count\n",
    "        if a == b: # final char?\n",
    "            rle += str(count) # add char to rle\n",
    "  \n",
    "  # printing the consdensed word if it is efficient\n",
    "    if len(rle) < len(word):\n",
    "        print(f\"{word} has been condensed to {rle} via run-length encoding\")\n",
    "    else:\n",
    "        print(f\"{word} can't efficiently be condensed via run-length encoding\")\n",
    "\n",
    "# Step 2 - declaring a word and calling the function\n",
    "word = \"Jaaaaaacob\" # NOT case sensative\n",
    "string_compressor(word)"
   ]
  },
  {
   "cell_type": "markdown",
   "metadata": {},
   "source": [
    "### Challenge 5 - FizzBuzz"
   ]
  },
  {
   "cell_type": "code",
   "execution_count": 17,
   "metadata": {},
   "outputs": [
    {
     "name": "stdout",
     "output_type": "stream",
     "text": [
      "1\n",
      "2\n",
      "Fizz\n",
      "4\n",
      "Buzz\n",
      "Fizz\n",
      "7\n",
      "8\n",
      "Fizz\n",
      "Buzz\n",
      "11\n",
      "Fizz\n",
      "13\n",
      "14\n",
      "FizzBuzz\n",
      "16\n",
      "17\n",
      "Fizz\n",
      "19\n",
      "Buzz\n",
      "Fizz\n",
      "22\n",
      "23\n",
      "Fizz\n",
      "Buzz\n",
      "26\n",
      "Fizz\n",
      "28\n",
      "29\n",
      "FizzBuzz\n",
      "31\n",
      "32\n",
      "Fizz\n",
      "34\n",
      "Buzz\n",
      "Fizz\n",
      "37\n",
      "38\n",
      "Fizz\n",
      "Buzz\n",
      "41\n",
      "Fizz\n",
      "43\n",
      "44\n",
      "FizzBuzz\n",
      "46\n",
      "47\n",
      "Fizz\n",
      "49\n",
      "Buzz\n",
      "Fizz\n",
      "52\n",
      "53\n",
      "Fizz\n",
      "Buzz\n",
      "56\n",
      "Fizz\n",
      "58\n",
      "59\n",
      "FizzBuzz\n",
      "61\n",
      "62\n",
      "Fizz\n",
      "64\n",
      "Buzz\n",
      "Fizz\n",
      "67\n",
      "68\n",
      "Fizz\n",
      "Buzz\n",
      "71\n",
      "Fizz\n",
      "73\n",
      "74\n",
      "FizzBuzz\n",
      "76\n",
      "77\n",
      "Fizz\n",
      "79\n",
      "Buzz\n",
      "Fizz\n",
      "82\n",
      "83\n",
      "Fizz\n",
      "Buzz\n",
      "86\n",
      "Fizz\n",
      "88\n",
      "89\n",
      "FizzBuzz\n",
      "91\n",
      "92\n",
      "Fizz\n",
      "94\n",
      "Buzz\n",
      "Fizz\n",
      "97\n",
      "98\n",
      "Fizz\n",
      "Buzz\n"
     ]
    }
   ],
   "source": [
    "# Step 1 - define the function\n",
    "def fizz_buzz(limit):\n",
    "\n",
    "  # looping through a specified loop\n",
    "    for number in range(1,limit+1):\n",
    "        if number % 3 == 0 and number % 5 == 0: # multiple of 3 and 5?\n",
    "            print('FizzBuzz')\n",
    "        elif number % 3 == 0: # multiple of 3?\n",
    "            print('Fizz')\n",
    "        elif number % 5 == 0: # multiple of 5\n",
    "            print('Buzz')\n",
    "        elif number % 3 != 0 and number % 5 != 0: # not a multiple of 3 or 5\n",
    "            print(number)\n",
    "\n",
    "fizz_buzz(100)"
   ]
  },
  {
   "cell_type": "code",
   "execution_count": null,
   "metadata": {},
   "outputs": [],
   "source": []
  }
 ],
 "metadata": {
  "kernelspec": {
   "display_name": "Python 3",
   "language": "python",
   "name": "python3"
  },
  "language_info": {
   "codemirror_mode": {
    "name": "ipython",
    "version": 3
   },
   "file_extension": ".py",
   "mimetype": "text/x-python",
   "name": "python",
   "nbconvert_exporter": "python",
   "pygments_lexer": "ipython3",
   "version": "3.8.3"
  }
 },
 "nbformat": 4,
 "nbformat_minor": 4
}
